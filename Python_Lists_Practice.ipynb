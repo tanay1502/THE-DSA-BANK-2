{
 "cells": [
  {
   "cell_type": "code",
   "execution_count": null,
   "id": "269eb86c",
   "metadata": {},
   "outputs": [],
   "source": [
    "#Dutch National Flag Problem - Sort array in 0,1,2\n",
    "def dutch_flag_problem(nums, pivot=1):\n",
    "    i = 0\n",
    "    j = 0\n",
    "    k = len(nums) - 1\n",
    "\n",
    "    while j <= k:\n",
    "        # current element is 0\n",
    "        if nums[j] < pivot:\n",
    "            swap(nums, i, j)\n",
    "            i = i + 1\n",
    "            j = j + 1\n",
    "        # current element is 2\n",
    "        elif nums[j] > pivot:\n",
    "            swap(nums, j, k)\n",
    "            k = k - 1\n",
    "        # current element is 1\n",
    "        else:\n",
    "            j = j + 1\n",
    "\n",
    "    return nums\n",
    "\n",
    "\n",
    "def swap(nums, index1, index2):\n",
    "    nums[index1], nums[index2] = nums[index2], nums[index1]\n",
    "\n",
    "\n",
    "if __name__ == '__main__':\n",
    "    print(dutch_flag_problem([2, 1221, 342, 1, 1, 2, 0, 2, 2, 2]))\n"
   ]
  },
  {
   "cell_type": "code",
   "execution_count": null,
   "id": "ad39e98b",
   "metadata": {},
   "outputs": [],
   "source": [
    "def Reverse(nums):\n",
    "    start_index = 0\n",
    "    end_index = len(nums) - 1\n",
    "    while end_index>start_index:\n",
    "        nums[start_index], nums[end_index] = nums[end_index], nums[start_index]\n",
    "        start_index += 1\n",
    "        end_index -= 1\n",
    "n = [-2, 5, -2]\n",
    "Reverse(n)\n",
    "print(n)"
   ]
  },
  {
   "cell_type": "code",
   "execution_count": 4,
   "id": "6d59c027",
   "metadata": {},
   "outputs": [
    {
     "name": "stdout",
     "output_type": "stream",
     "text": [
      "12321\n"
     ]
    }
   ],
   "source": [
    "def reverseInteger(n):\n",
    "    reverse = 0\n",
    "    remainder = 0\n",
    "    while n>0:\n",
    "        remainder = n%10\n",
    "        n = n//10\n",
    "        reverse = reverse*10+ remainder\n",
    "    return reverse\n",
    "print(reverseInteger(12321))\n",
    "    "
   ]
  },
  {
   "cell_type": "code",
   "execution_count": 7,
   "id": "7cd786dd",
   "metadata": {},
   "outputs": [],
   "source": [
    "def isAnagram(s1, s2):\n",
    "    if len(s1) != len(s2):\n",
    "        return False\n",
    "    s1 = sorted(s1)\n",
    "    s2 = sorted(s2)\n",
    "    for i in range(len(s1)):\n",
    "          if s1[i] != s2[i]:\n",
    "                return False\n",
    "    return True"
   ]
  }
 ],
 "metadata": {
  "kernelspec": {
   "display_name": "Python 3 (ipykernel)",
   "language": "python",
   "name": "python3"
  },
  "language_info": {
   "codemirror_mode": {
    "name": "ipython",
    "version": 3
   },
   "file_extension": ".py",
   "mimetype": "text/x-python",
   "name": "python",
   "nbconvert_exporter": "python",
   "pygments_lexer": "ipython3",
   "version": "3.9.12"
  }
 },
 "nbformat": 4,
 "nbformat_minor": 5
}
