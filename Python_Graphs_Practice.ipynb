{
 "cells": [
  {
   "cell_type": "code",
   "execution_count": 2,
   "id": "bd7e2454",
   "metadata": {},
   "outputs": [
    {
     "name": "stdout",
     "output_type": "stream",
     "text": [
      "[1, 2]\n",
      "[0, 2, 3]\n",
      "[0, 1]\n",
      "[1]\n"
     ]
    }
   ],
   "source": [
    "# Graph Adjancency List Representation\n",
    "\n",
    "def addEdge(adj, u, v):\n",
    "    adj[u].append(v)\n",
    "    adj[v].append(u)\n",
    "    \n",
    "def printGraph(adj):\n",
    "    for l in adj:\n",
    "        print(l)\n",
    "\n",
    "v = 4\n",
    "adj = [[] for i in range(v)]\n",
    "addEdge(adj, 0, 1)\n",
    "addEdge(adj, 0, 2)\n",
    "addEdge(adj, 1, 2)\n",
    "addEdge(adj, 1, 3)\n",
    "printGraph(adj)"
   ]
  },
  {
   "cell_type": "markdown",
   "id": "a134e5d5",
   "metadata": {},
   "source": [
    "# Graph Traversal - DFS \n",
    "\n",
    "Algorithm:-\n",
    "1. Consider starting node as current node.\n",
    "2. Visit the unvisted node of current node, make that node as current node.\n",
    "3. Follow step 2 until we find dead end.\n",
    "4. If unvisited nodes are present in the graph then backtrack take recent visited node as current node and repeat Step 2."
   ]
  },
  {
   "cell_type": "code",
   "execution_count": 7,
   "id": "8e9ef1ce",
   "metadata": {},
   "outputs": [
    {
     "name": "stdout",
     "output_type": "stream",
     "text": [
      "{'A': ['B', 'C', 'D'], 'B': ['A', 'E', 'D'], 'C': ['A', 'D'], 'D': ['A', 'B', 'C', 'E'], 'E': ['B', 'D']}\n",
      "A\n",
      "B\n",
      "E\n",
      "D\n",
      "C\n"
     ]
    }
   ],
   "source": [
    "# DFS Graph Implementation using Recursion\n",
    "def addNode(v):\n",
    "    if v in graph:\n",
    "        print(v, \"is already present in graph\")\n",
    "    else:\n",
    "        graph[v] = []\n",
    "\n",
    "def addEdge(v1, v2):\n",
    "    if v1 not in graph:\n",
    "        print(v1, \"is not present in the graph\")\n",
    "        return\n",
    "    elif v2 not in graph:\n",
    "        print(v2, \"is not present in the graph\")\n",
    "    else:\n",
    "        graph[v1].append(v2)\n",
    "        graph[v2].append(v1)\n",
    "        \n",
    "def DFS(node, visited, graph):\n",
    "    if node not in graph:\n",
    "        print(\"Node\", node, \"is not present in the graph\")\n",
    "    if node not in visited:\n",
    "        print(node)\n",
    "        visited.add(node)\n",
    "        for i in graph[node]:\n",
    "            DFS(i, visited, graph)\n",
    "visited = set()\n",
    "    \n",
    "graph = { }\n",
    "addNode(\"A\")\n",
    "addNode(\"B\")\n",
    "addNode(\"C\")\n",
    "addNode(\"D\")\n",
    "addNode(\"E\")\n",
    "\n",
    "addEdge(\"A\", \"B\")\n",
    "addEdge(\"B\", \"E\")\n",
    "addEdge(\"A\", \"C\")\n",
    "addEdge(\"A\", \"D\")\n",
    "addEdge(\"B\", \"D\")\n",
    "addEdge(\"C\", \"D\")\n",
    "addEdge(\"E\", \"D\")\n",
    "print(graph)\n",
    "DFS(\"A\", visited, graph)"
   ]
  },
  {
   "cell_type": "code",
   "execution_count": 8,
   "id": "2602841c",
   "metadata": {},
   "outputs": [
    {
     "name": "stdout",
     "output_type": "stream",
     "text": [
      "{'A': ['B', 'C', 'D'], 'B': ['A', 'E', 'D'], 'C': ['A', 'D'], 'D': ['A', 'B', 'C', 'E'], 'E': ['B', 'D']}\n",
      "A\n",
      "D\n",
      "E\n",
      "B\n",
      "C\n"
     ]
    }
   ],
   "source": [
    "# DFS Graph Implementation using Interative Approach\n",
    "\n",
    "def addNode(v):\n",
    "    if v in graph:\n",
    "        print(v, \"is already present in the graph\")\n",
    "    else:\n",
    "        graph[v] = []\n",
    "\n",
    "def addEdge(v1, v2):\n",
    "    if v1 not in graph:\n",
    "        print(v1, \"is not present in the graph\")\n",
    "        return\n",
    "    elif v2 not in graph:\n",
    "        print(v2, \"is not present in the graph\")\n",
    "    else:\n",
    "        graph[v1].append(v2)\n",
    "        graph[v2].append(v1)\n",
    "        \n",
    "\"\"\"\"       \n",
    "def DFS(node, visited, graph):\n",
    "    if node not in graph:\n",
    "        print(node, \"Node is not present in the graph\")\n",
    "    if node not in visited:\n",
    "        print(node)\n",
    "        visited.add(node)\n",
    "        for i in graph[node]:\n",
    "            DFS(i, visited, graph)\n",
    "\"\"\"\n",
    "\n",
    "def DFSiterative(node, graph):\n",
    "    visited = set()\n",
    "    if node not in graph:\n",
    "        print(\"Node\", node, \"is not present in the graph\")\n",
    "        return\n",
    "    stack = []\n",
    "    stack.append(node)\n",
    "    while stack:\n",
    "        current  = stack.pop()\n",
    "        if current not in visited:\n",
    "            print(current)\n",
    "            visited.add(current)  \n",
    "            for i in graph[current]:\n",
    "                stack.append(i)\n",
    "                \n",
    "    \n",
    "#visited = set()   \n",
    "graph = { }\n",
    "addNode(\"A\")\n",
    "addNode(\"B\")\n",
    "addNode(\"C\")\n",
    "addNode(\"D\")\n",
    "addNode(\"E\")\n",
    "\n",
    "addEdge(\"A\", \"B\")\n",
    "addEdge(\"B\", \"E\")\n",
    "addEdge(\"A\", \"C\")\n",
    "addEdge(\"A\", \"D\")\n",
    "addEdge(\"B\", \"D\")\n",
    "addEdge(\"C\", \"D\")\n",
    "addEdge(\"E\", \"D\")\n",
    "print(graph)\n",
    "#DFS(\"D\", visited, graph)\n",
    "DFSiterative(\"A\", graph)\n"
   ]
  },
  {
   "cell_type": "code",
   "execution_count": null,
   "id": "5e176347",
   "metadata": {},
   "outputs": [],
   "source": []
  }
 ],
 "metadata": {
  "kernelspec": {
   "display_name": "Python 3 (ipykernel)",
   "language": "python",
   "name": "python3"
  },
  "language_info": {
   "codemirror_mode": {
    "name": "ipython",
    "version": 3
   },
   "file_extension": ".py",
   "mimetype": "text/x-python",
   "name": "python",
   "nbconvert_exporter": "python",
   "pygments_lexer": "ipython3",
   "version": "3.9.12"
  }
 },
 "nbformat": 4,
 "nbformat_minor": 5
}
