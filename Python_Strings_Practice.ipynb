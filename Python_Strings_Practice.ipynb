{
 "cells": [
  {
   "cell_type": "markdown",
   "id": "3badfd7f",
   "metadata": {},
   "source": [
    "# Basics of Strings in Python"
   ]
  },
  {
   "cell_type": "code",
   "execution_count": 1,
   "id": "a01e544d",
   "metadata": {},
   "outputs": [],
   "source": [
    "s=\"Prakhar\""
   ]
  },
  {
   "cell_type": "code",
   "execution_count": 2,
   "id": "762dbf48",
   "metadata": {},
   "outputs": [
    {
     "name": "stdout",
     "output_type": "stream",
     "text": [
      "Prakhar\n"
     ]
    }
   ],
   "source": [
    "print(s)"
   ]
  },
  {
   "cell_type": "code",
   "execution_count": 3,
   "id": "815a6eab",
   "metadata": {},
   "outputs": [
    {
     "name": "stdout",
     "output_type": "stream",
     "text": [
      "My Name\n",
      "is\n",
      "    Prakhar\n"
     ]
    }
   ],
   "source": [
    "s='''My Name\n",
    "is\n",
    "    Prakhar'''\n",
    "print(s)"
   ]
  },
  {
   "cell_type": "code",
   "execution_count": 4,
   "id": "a556ef3f",
   "metadata": {},
   "outputs": [
    {
     "name": "stdout",
     "output_type": "stream",
     "text": [
      "RedCar\n"
     ]
    }
   ],
   "source": [
    "a=\"Red\"\n",
    "a = a + \"Car\"\n",
    "print(a)"
   ]
  },
  {
   "cell_type": "code",
   "execution_count": 5,
   "id": "350cc381",
   "metadata": {},
   "outputs": [
    {
     "name": "stdout",
     "output_type": "stream",
     "text": [
      "BlueBlazer\n"
     ]
    },
    {
     "data": {
      "text/plain": [
       "2150010999472"
      ]
     },
     "execution_count": 5,
     "metadata": {},
     "output_type": "execute_result"
    }
   ],
   "source": [
    "a = 'Blue'\n",
    "b = \"Blazer\"\n",
    "print(a+b)\n",
    "id(a+b)"
   ]
  },
  {
   "cell_type": "code",
   "execution_count": 14,
   "id": "d04dc3d6",
   "metadata": {},
   "outputs": [
    {
     "name": "stdout",
     "output_type": "stream",
     "text": [
      "BlueBlazerofTanayBlueBlazerofTanayBlueBlazerofTanayBlueBlazerofTanayBlueBlazerofTanay\n"
     ]
    }
   ],
   "source": [
    "print((a+b+ \"of\" + \"Tanay\")*5)"
   ]
  },
  {
   "cell_type": "code",
   "execution_count": 16,
   "id": "391b86a1",
   "metadata": {},
   "outputs": [
    {
     "name": "stdout",
     "output_type": "stream",
     "text": [
      "Hello123\n"
     ]
    }
   ],
   "source": [
    "a = \"Hello\"\n",
    "print(a+str(123))"
   ]
  },
  {
   "cell_type": "code",
   "execution_count": 22,
   "id": "b4f591d8",
   "metadata": {},
   "outputs": [
    {
     "name": "stdout",
     "output_type": "stream",
     "text": [
      "Hello\n",
      "i\n",
      "0\n",
      "-1\n"
     ]
    }
   ],
   "source": [
    "def Count_Letter(a, x):\n",
    "    count = 0\n",
    "    for letter in a:\n",
    "        if(letter==x):\n",
    "            count = count + 1\n",
    "    print(count)\n",
    "a = str(input())\n",
    "x = str(input())\n",
    "res = Count_Letter(a,x)\n",
    "if not res:\n",
    "    print(\"-1\")\n",
    "else:\n",
    "    print(res)"
   ]
  },
  {
   "cell_type": "markdown",
   "id": "635078e5",
   "metadata": {},
   "source": [
    "Fuctions of Strings"
   ]
  },
  {
   "cell_type": "code",
   "execution_count": 24,
   "id": "f278f2b6",
   "metadata": {},
   "outputs": [
    {
     "name": "stdout",
     "output_type": "stream",
     "text": [
      "['I', 'am', 'Prakhar', 'Shreyash']\n"
     ]
    }
   ],
   "source": [
    "s = \"I am Prakhar Shreyash\"\n",
    "li = s.split()\n",
    "print(li)"
   ]
  },
  {
   "cell_type": "code",
   "execution_count": 28,
   "id": "dc18ddb1",
   "metadata": {},
   "outputs": [
    {
     "name": "stdout",
     "output_type": "stream",
     "text": [
      "I am Prakhar Singh\n"
     ]
    }
   ],
   "source": [
    "s = \"I am Prakhar Shreyash\"\n",
    "s = s.replace(\"Shreyash\",\"Singh\")\n",
    "print(s)"
   ]
  },
  {
   "cell_type": "code",
   "execution_count": 32,
   "id": "c6cb49e4",
   "metadata": {},
   "outputs": [
    {
     "name": "stdout",
     "output_type": "stream",
     "text": [
      "I am Prakhar Tanay Singh\n"
     ]
    }
   ],
   "source": [
    "s = \"I am Tanay Tanay Singh\"\n",
    "s = s.replace(\"Tanay\", \"Prakhar\",1)\n",
    "print(s)\n"
   ]
  },
  {
   "cell_type": "code",
   "execution_count": 35,
   "id": "222616dd",
   "metadata": {},
   "outputs": [
    {
     "name": "stdout",
     "output_type": "stream",
     "text": [
      "11\n"
     ]
    }
   ],
   "source": [
    "s = \"My name is Prakhar\"\n",
    "index= s.find(\"Pra\", 8, 14)\n",
    "print(index)"
   ]
  },
  {
   "cell_type": "code",
   "execution_count": 37,
   "id": "69ebbafc",
   "metadata": {},
   "outputs": [
    {
     "name": "stdout",
     "output_type": "stream",
     "text": [
      "I LIVE IN INDIA\n"
     ]
    }
   ],
   "source": [
    "s = \"I live in India\"\n",
    "lower = s.upper()\n",
    "print(lower)"
   ]
  },
  {
   "cell_type": "code",
   "execution_count": 38,
   "id": "7ebeb77a",
   "metadata": {},
   "outputs": [
    {
     "name": "stdout",
     "output_type": "stream",
     "text": [
      "i live in india\n"
     ]
    }
   ],
   "source": [
    "s = \"I live in India\"\n",
    "lower = s.lower()\n",
    "print(lower)"
   ]
  },
  {
   "cell_type": "markdown",
   "id": "ea190522",
   "metadata": {},
   "source": [
    "Count Vowels Consonants and Digits"
   ]
  },
  {
   "cell_type": "code",
   "execution_count": null,
   "id": "3c106c2c",
   "metadata": {},
   "outputs": [],
   "source": [
    "def CountVCD()"
   ]
  }
 ],
 "metadata": {
  "kernelspec": {
   "display_name": "Python 3 (ipykernel)",
   "language": "python",
   "name": "python3"
  },
  "language_info": {
   "codemirror_mode": {
    "name": "ipython",
    "version": 3
   },
   "file_extension": ".py",
   "mimetype": "text/x-python",
   "name": "python",
   "nbconvert_exporter": "python",
   "pygments_lexer": "ipython3",
   "version": "3.9.7"
  }
 },
 "nbformat": 4,
 "nbformat_minor": 5
}
