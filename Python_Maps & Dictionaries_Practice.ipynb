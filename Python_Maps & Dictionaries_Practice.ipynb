{
 "cells": [
  {
   "cell_type": "markdown",
   "id": "4cbb49d6",
   "metadata": {},
   "source": [
    "DICTIONARIES"
   ]
  },
  {
   "cell_type": "code",
   "execution_count": 2,
   "id": "aff8fb87",
   "metadata": {},
   "outputs": [
    {
     "name": "stdout",
     "output_type": "stream",
     "text": [
      "{'I': 1, 'am': 2, 'Prakhar': 3}\n"
     ]
    }
   ],
   "source": [
    "a = {'I':1, 'am':2, 'Prakhar':3}\n",
    "print(a)"
   ]
  },
  {
   "cell_type": "code",
   "execution_count": 3,
   "id": "df8047a8",
   "metadata": {},
   "outputs": [
    {
     "data": {
      "text/plain": [
       "3"
      ]
     },
     "execution_count": 3,
     "metadata": {},
     "output_type": "execute_result"
    }
   ],
   "source": [
    "len(a)"
   ]
  },
  {
   "cell_type": "code",
   "execution_count": null,
   "id": "4fcb5c67",
   "metadata": {},
   "outputs": [],
   "source": [
    "b = a.copy()\n",
    "b"
   ]
  },
  {
   "cell_type": "code",
   "execution_count": 4,
   "id": "dca0c751",
   "metadata": {},
   "outputs": [
    {
     "data": {
      "text/plain": [
       "{'I': 1, 2: 'am', 'living': 3, 4: 'at', 'home': 5}"
      ]
     },
     "execution_count": 4,
     "metadata": {},
     "output_type": "execute_result"
    }
   ],
   "source": [
    "c = dict([('I',1),(2,'am'),('living',3),(4,'at'),('home',5)])\n",
    "c"
   ]
  },
  {
   "cell_type": "code",
   "execution_count": null,
   "id": "88a80515",
   "metadata": {},
   "outputs": [],
   "source": [
    "d = dict.fromkeys(['prakhar', 'shreyash', 1502])\n",
    "d"
   ]
  },
  {
   "cell_type": "code",
   "execution_count": null,
   "id": "3d2f4db1",
   "metadata": {},
   "outputs": [],
   "source": [
    "a = {'I':1, 'am':2, 'Prakhar Shreyash':3}\n",
    "for i in a.values():\n",
    "    print(i)\n",
    " in a"
   ]
  },
  {
   "cell_type": "code",
   "execution_count": null,
   "id": "e8ffe91b",
   "metadata": {},
   "outputs": [],
   "source": [
    "a"
   ]
  },
  {
   "cell_type": "code",
   "execution_count": null,
   "id": "54e09428",
   "metadata": {},
   "outputs": [],
   "source": [
    "a['am'] = 5\n",
    "a"
   ]
  },
  {
   "cell_type": "code",
   "execution_count": null,
   "id": "a0f028c5",
   "metadata": {},
   "outputs": [],
   "source": [
    "b = {'I': 4, 'am': 5, \"Prakhar Shreyash\": 9}\n",
    "a.update(b)\n",
    "a"
   ]
  },
  {
   "cell_type": "code",
   "execution_count": null,
   "id": "714647f4",
   "metadata": {},
   "outputs": [],
   "source": [
    "a.pop(\"am\")"
   ]
  },
  {
   "cell_type": "code",
   "execution_count": null,
   "id": "4d325fdf",
   "metadata": {},
   "outputs": [],
   "source": [
    "a"
   ]
  },
  {
   "cell_type": "code",
   "execution_count": null,
   "id": "ad1b6b27",
   "metadata": {},
   "outputs": [],
   "source": [
    "del a['I']"
   ]
  },
  {
   "cell_type": "code",
   "execution_count": null,
   "id": "d5a2bce7",
   "metadata": {},
   "outputs": [],
   "source": [
    "a"
   ]
  },
  {
   "cell_type": "code",
   "execution_count": null,
   "id": "69ddb1b7",
   "metadata": {},
   "outputs": [],
   "source": [
    "a.clear()"
   ]
  },
  {
   "cell_type": "code",
   "execution_count": null,
   "id": "ab43f17a",
   "metadata": {},
   "outputs": [],
   "source": [
    "a"
   ]
  },
  {
   "cell_type": "code",
   "execution_count": null,
   "id": "8ffce170",
   "metadata": {},
   "outputs": [],
   "source": [
    "del a"
   ]
  },
  {
   "cell_type": "code",
   "execution_count": null,
   "id": "26addc96",
   "metadata": {},
   "outputs": [],
   "source": [
    "a"
   ]
  },
  {
   "cell_type": "code",
   "execution_count": null,
   "id": "d0b1809a",
   "metadata": {},
   "outputs": [],
   "source": [
    "class MapNode:\n",
    "    def __init__(self, key, value):\n",
    "        self.key = key\n",
    "        self.value = value\n",
    "        self.next = None\n",
    "        \n",
    "class Map:\n",
    "    \n",
    "    def __init__(self):\n",
    "        self.bucketSize = 10\n",
    "        self.buckets = [None for i in range(self.bucketSize)]\n",
    "        self.count = 0\n",
    "        \n",
    "    def size(self):\n",
    "        return self.count\n",
    "    \n",
    "    def bucketIndex(self,hc):\n",
    "        return(abs(hc)%self.bucketSize)\n",
    "    \n",
    "    def insert(self,key,value):\n",
    "        hc = hash(key)\n",
    "        index = bucketIndex()"
   ]
  }
 ],
 "metadata": {
  "kernelspec": {
   "display_name": "Python 3 (ipykernel)",
   "language": "python",
   "name": "python3"
  },
  "language_info": {
   "codemirror_mode": {
    "name": "ipython",
    "version": 3
   },
   "file_extension": ".py",
   "mimetype": "text/x-python",
   "name": "python",
   "nbconvert_exporter": "python",
   "pygments_lexer": "ipython3",
   "version": "3.9.7"
  }
 },
 "nbformat": 4,
 "nbformat_minor": 5
}
